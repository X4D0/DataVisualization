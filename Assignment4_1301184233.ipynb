{
  "nbformat": 4,
  "nbformat_minor": 0,
  "metadata": {
    "colab": {
      "name": "Assignment4_1301184233.ipynb",
      "provenance": [],
      "authorship_tag": "ABX9TyPVOtrdjJgjko/0r+NI0jD6",
      "include_colab_link": true
    },
    "kernelspec": {
      "name": "python3",
      "display_name": "Python 3"
    },
    "language_info": {
      "name": "python"
    }
  },
  "cells": [
    {
      "cell_type": "markdown",
      "metadata": {
        "id": "view-in-github",
        "colab_type": "text"
      },
      "source": [
        "<a href=\"https://colab.research.google.com/github/X4D0/DataVisualization/blob/main/Assignment4_1301184233.ipynb\" target=\"_parent\"><img src=\"https://colab.research.google.com/assets/colab-badge.svg\" alt=\"Open In Colab\"/></a>"
      ]
    },
    {
      "cell_type": "markdown",
      "metadata": {
        "id": "lMwRco0ePYFf"
      },
      "source": [
        "# Assignment 4 - Geospatial Data\n",
        "Rayhan Rahmanda<br>\n",
        "1301184233<br>\n",
        "IF-42-GAB03"
      ]
    },
    {
      "cell_type": "markdown",
      "metadata": {
        "id": "mrq8XX_rP0ka"
      },
      "source": [
        "## Intro\n",
        "Tugas : Buatlah visualisasi geospatial yang menunjukkan sebaran kasus positif covid19 di Indonesia dengan basis provinsi.\n",
        "\n",
        "\n",
        "> Pada Tugas kali ini akan digunakan 2 (dua) buah file yaitu Shapefile untuk Provinsi Jawa Barat dan file Dataset yang berisikan data jumlah Covid-19 Tanggal 05 Mei 2021 di tiap Kab/Kota."
      ]
    },
    {
      "cell_type": "markdown",
      "metadata": {
        "id": "uSQsRQxOQVwr"
      },
      "source": [
        "## Prepare Data\n",
        "Import Library/Package yang dibutuhkan :"
      ]
    },
    {
      "cell_type": "code",
      "metadata": {
        "colab": {
          "base_uri": "https://localhost:8080/"
        },
        "id": "FH3ZFWvqabyY",
        "outputId": "31a1d6d5-31a3-4225-bc99-bff335b31d5a"
      },
      "source": [
        "!pip install git+git://github.com/geopandas/geopandas.git\n",
        "!apt install proj-bin libproj-dev libgeos-dev\n",
        "!pip install git+git://github.com/ResidentMario/geoplot.git"
      ],
      "execution_count": 1,
      "outputs": [
        {
          "output_type": "stream",
          "text": [
            "Collecting git+git://github.com/geopandas/geopandas.git\n",
            "  Cloning git://github.com/geopandas/geopandas.git to /tmp/pip-req-build-_7iyk6en\n",
            "  Running command git clone -q git://github.com/geopandas/geopandas.git /tmp/pip-req-build-_7iyk6en\n",
            "Requirement already satisfied (use --upgrade to upgrade): geopandas==0.9.0+22.g85e066a from git+git://github.com/geopandas/geopandas.git in /usr/local/lib/python3.7/dist-packages\n",
            "Requirement already satisfied: pandas>=0.24.0 in /usr/local/lib/python3.7/dist-packages (from geopandas==0.9.0+22.g85e066a) (1.1.5)\n",
            "Requirement already satisfied: shapely>=1.6 in /usr/local/lib/python3.7/dist-packages (from geopandas==0.9.0+22.g85e066a) (1.7.1)\n",
            "Requirement already satisfied: fiona>=1.8 in /usr/local/lib/python3.7/dist-packages (from geopandas==0.9.0+22.g85e066a) (1.8.19)\n",
            "Requirement already satisfied: pyproj>=2.2.0 in /usr/local/lib/python3.7/dist-packages (from geopandas==0.9.0+22.g85e066a) (3.0.1)\n",
            "Requirement already satisfied: python-dateutil>=2.7.3 in /usr/local/lib/python3.7/dist-packages (from pandas>=0.24.0->geopandas==0.9.0+22.g85e066a) (2.8.1)\n",
            "Requirement already satisfied: numpy>=1.15.4 in /usr/local/lib/python3.7/dist-packages (from pandas>=0.24.0->geopandas==0.9.0+22.g85e066a) (1.19.5)\n",
            "Requirement already satisfied: pytz>=2017.2 in /usr/local/lib/python3.7/dist-packages (from pandas>=0.24.0->geopandas==0.9.0+22.g85e066a) (2018.9)\n",
            "Requirement already satisfied: munch in /usr/local/lib/python3.7/dist-packages (from fiona>=1.8->geopandas==0.9.0+22.g85e066a) (2.5.0)\n",
            "Requirement already satisfied: six>=1.7 in /usr/local/lib/python3.7/dist-packages (from fiona>=1.8->geopandas==0.9.0+22.g85e066a) (1.15.0)\n",
            "Requirement already satisfied: click-plugins>=1.0 in /usr/local/lib/python3.7/dist-packages (from fiona>=1.8->geopandas==0.9.0+22.g85e066a) (1.1.1)\n",
            "Requirement already satisfied: cligj>=0.5 in /usr/local/lib/python3.7/dist-packages (from fiona>=1.8->geopandas==0.9.0+22.g85e066a) (0.7.1)\n",
            "Requirement already satisfied: certifi in /usr/local/lib/python3.7/dist-packages (from fiona>=1.8->geopandas==0.9.0+22.g85e066a) (2020.12.5)\n",
            "Requirement already satisfied: attrs>=17 in /usr/local/lib/python3.7/dist-packages (from fiona>=1.8->geopandas==0.9.0+22.g85e066a) (20.3.0)\n",
            "Requirement already satisfied: click<8,>=4.0 in /usr/local/lib/python3.7/dist-packages (from fiona>=1.8->geopandas==0.9.0+22.g85e066a) (7.1.2)\n",
            "Building wheels for collected packages: geopandas\n",
            "  Building wheel for geopandas (setup.py) ... \u001b[?25l\u001b[?25hdone\n",
            "  Created wheel for geopandas: filename=geopandas-0.9.0+22.g85e066a-py2.py3-none-any.whl size=995260 sha256=f8c977aa4870b883709f413cd77bea05e769842a1c9d8114b6484ff697175275\n",
            "  Stored in directory: /tmp/pip-ephem-wheel-cache-qhldhtov/wheels/91/24/71/376c9c67192694168352afcccc2d264248f7e2cc6192997186\n",
            "Successfully built geopandas\n",
            "Reading package lists... Done\n",
            "Building dependency tree       \n",
            "Reading state information... Done\n",
            "libgeos-dev is already the newest version (3.6.2-1build2).\n",
            "libproj-dev is already the newest version (4.9.3-2).\n",
            "proj-bin is already the newest version (4.9.3-2).\n",
            "The following package was automatically installed and is no longer required:\n",
            "  libnvidia-common-460\n",
            "Use 'apt autoremove' to remove it.\n",
            "0 upgraded, 0 newly installed, 0 to remove and 34 not upgraded.\n",
            "Collecting git+git://github.com/ResidentMario/geoplot.git\n",
            "  Cloning git://github.com/ResidentMario/geoplot.git to /tmp/pip-req-build-75v7wuw4\n",
            "  Running command git clone -q git://github.com/ResidentMario/geoplot.git /tmp/pip-req-build-75v7wuw4\n",
            "Requirement already satisfied (use --upgrade to upgrade): geoplot==0.4.1 from git+git://github.com/ResidentMario/geoplot.git in /usr/local/lib/python3.7/dist-packages\n",
            "Requirement already satisfied: matplotlib in /usr/local/lib/python3.7/dist-packages (from geoplot==0.4.1) (3.2.2)\n",
            "Requirement already satisfied: seaborn in /usr/local/lib/python3.7/dist-packages (from geoplot==0.4.1) (0.11.1)\n",
            "Requirement already satisfied: pandas in /usr/local/lib/python3.7/dist-packages (from geoplot==0.4.1) (1.1.5)\n",
            "Requirement already satisfied: geopandas in /usr/local/lib/python3.7/dist-packages (from geoplot==0.4.1) (0.9.0+22.g85e066a)\n",
            "Requirement already satisfied: cartopy in /usr/local/lib/python3.7/dist-packages (from geoplot==0.4.1) (0.19.0.post1)\n",
            "Requirement already satisfied: descartes in /usr/local/lib/python3.7/dist-packages (from geoplot==0.4.1) (1.1.0)\n",
            "Requirement already satisfied: mapclassify>=2.1 in /usr/local/lib/python3.7/dist-packages (from geoplot==0.4.1) (2.4.2)\n",
            "Requirement already satisfied: contextily>=1.0.0 in /usr/local/lib/python3.7/dist-packages (from geoplot==0.4.1) (1.1.0)\n",
            "Requirement already satisfied: pyparsing!=2.0.4,!=2.1.2,!=2.1.6,>=2.0.1 in /usr/local/lib/python3.7/dist-packages (from matplotlib->geoplot==0.4.1) (2.4.7)\n",
            "Requirement already satisfied: numpy>=1.11 in /usr/local/lib/python3.7/dist-packages (from matplotlib->geoplot==0.4.1) (1.19.5)\n",
            "Requirement already satisfied: python-dateutil>=2.1 in /usr/local/lib/python3.7/dist-packages (from matplotlib->geoplot==0.4.1) (2.8.1)\n",
            "Requirement already satisfied: kiwisolver>=1.0.1 in /usr/local/lib/python3.7/dist-packages (from matplotlib->geoplot==0.4.1) (1.3.1)\n",
            "Requirement already satisfied: cycler>=0.10 in /usr/local/lib/python3.7/dist-packages (from matplotlib->geoplot==0.4.1) (0.10.0)\n",
            "Requirement already satisfied: scipy>=1.0 in /usr/local/lib/python3.7/dist-packages (from seaborn->geoplot==0.4.1) (1.4.1)\n",
            "Requirement already satisfied: pytz>=2017.2 in /usr/local/lib/python3.7/dist-packages (from pandas->geoplot==0.4.1) (2018.9)\n",
            "Requirement already satisfied: fiona>=1.8 in /usr/local/lib/python3.7/dist-packages (from geopandas->geoplot==0.4.1) (1.8.19)\n",
            "Requirement already satisfied: pyproj>=2.2.0 in /usr/local/lib/python3.7/dist-packages (from geopandas->geoplot==0.4.1) (3.0.1)\n",
            "Requirement already satisfied: shapely>=1.6 in /usr/local/lib/python3.7/dist-packages (from geopandas->geoplot==0.4.1) (1.7.1)\n",
            "Requirement already satisfied: pyshp>=2 in /usr/local/lib/python3.7/dist-packages (from cartopy->geoplot==0.4.1) (2.1.3)\n",
            "Requirement already satisfied: networkx in /usr/local/lib/python3.7/dist-packages (from mapclassify>=2.1->geoplot==0.4.1) (2.5.1)\n",
            "Requirement already satisfied: scikit-learn in /usr/local/lib/python3.7/dist-packages (from mapclassify>=2.1->geoplot==0.4.1) (0.22.2.post1)\n",
            "Requirement already satisfied: joblib in /usr/local/lib/python3.7/dist-packages (from contextily>=1.0.0->geoplot==0.4.1) (1.0.1)\n",
            "Requirement already satisfied: rasterio in /usr/local/lib/python3.7/dist-packages (from contextily>=1.0.0->geoplot==0.4.1) (1.2.3)\n",
            "Requirement already satisfied: pillow in /usr/local/lib/python3.7/dist-packages (from contextily>=1.0.0->geoplot==0.4.1) (7.1.2)\n",
            "Requirement already satisfied: geopy in /usr/local/lib/python3.7/dist-packages (from contextily>=1.0.0->geoplot==0.4.1) (1.17.0)\n",
            "Requirement already satisfied: mercantile in /usr/local/lib/python3.7/dist-packages (from contextily>=1.0.0->geoplot==0.4.1) (1.2.1)\n",
            "Requirement already satisfied: requests in /usr/local/lib/python3.7/dist-packages (from contextily>=1.0.0->geoplot==0.4.1) (2.23.0)\n",
            "Requirement already satisfied: six>=1.5 in /usr/local/lib/python3.7/dist-packages (from python-dateutil>=2.1->matplotlib->geoplot==0.4.1) (1.15.0)\n",
            "Requirement already satisfied: cligj>=0.5 in /usr/local/lib/python3.7/dist-packages (from fiona>=1.8->geopandas->geoplot==0.4.1) (0.7.1)\n",
            "Requirement already satisfied: click<8,>=4.0 in /usr/local/lib/python3.7/dist-packages (from fiona>=1.8->geopandas->geoplot==0.4.1) (7.1.2)\n",
            "Requirement already satisfied: munch in /usr/local/lib/python3.7/dist-packages (from fiona>=1.8->geopandas->geoplot==0.4.1) (2.5.0)\n",
            "Requirement already satisfied: click-plugins>=1.0 in /usr/local/lib/python3.7/dist-packages (from fiona>=1.8->geopandas->geoplot==0.4.1) (1.1.1)\n",
            "Requirement already satisfied: certifi in /usr/local/lib/python3.7/dist-packages (from fiona>=1.8->geopandas->geoplot==0.4.1) (2020.12.5)\n",
            "Requirement already satisfied: attrs>=17 in /usr/local/lib/python3.7/dist-packages (from fiona>=1.8->geopandas->geoplot==0.4.1) (20.3.0)\n",
            "Requirement already satisfied: decorator<5,>=4.3 in /usr/local/lib/python3.7/dist-packages (from networkx->mapclassify>=2.1->geoplot==0.4.1) (4.4.2)\n",
            "Requirement already satisfied: affine in /usr/local/lib/python3.7/dist-packages (from rasterio->contextily>=1.0.0->geoplot==0.4.1) (2.3.0)\n",
            "Requirement already satisfied: snuggs>=1.4.1 in /usr/local/lib/python3.7/dist-packages (from rasterio->contextily>=1.0.0->geoplot==0.4.1) (1.4.7)\n",
            "Requirement already satisfied: geographiclib<2,>=1.49 in /usr/local/lib/python3.7/dist-packages (from geopy->contextily>=1.0.0->geoplot==0.4.1) (1.50)\n",
            "Requirement already satisfied: idna<3,>=2.5 in /usr/local/lib/python3.7/dist-packages (from requests->contextily>=1.0.0->geoplot==0.4.1) (2.10)\n",
            "Requirement already satisfied: urllib3!=1.25.0,!=1.25.1,<1.26,>=1.21.1 in /usr/local/lib/python3.7/dist-packages (from requests->contextily>=1.0.0->geoplot==0.4.1) (1.24.3)\n",
            "Requirement already satisfied: chardet<4,>=3.0.2 in /usr/local/lib/python3.7/dist-packages (from requests->contextily>=1.0.0->geoplot==0.4.1) (3.0.4)\n",
            "Building wheels for collected packages: geoplot\n",
            "  Building wheel for geoplot (setup.py) ... \u001b[?25l\u001b[?25hdone\n",
            "  Created wheel for geoplot: filename=geoplot-0.4.1-cp37-none-any.whl size=28892 sha256=e0fcd9d63ac086708cb26a93b7921ac51f11b57fad5b9370a1d7a9b609fcdd0e\n",
            "  Stored in directory: /tmp/pip-ephem-wheel-cache-loa7kb9x/wheels/23/2b/70/23c7ff87a338a1067df091ca0302d247c166e294df4392b5a3\n",
            "Successfully built geoplot\n"
          ],
          "name": "stdout"
        }
      ]
    },
    {
      "cell_type": "code",
      "metadata": {
        "colab": {
          "base_uri": "https://localhost:8080/"
        },
        "id": "83xTQByMPUlm",
        "outputId": "313eec77-168d-4ce8-f2bc-ef11371b528c"
      },
      "source": [
        "import geoplot as gplt\n",
        "import geopandas as gpd\n",
        "import geoplot.crs as gcrs\n",
        "import imageio\n",
        "import pandas as pd\n",
        "import pathlib\n",
        "import matplotlib.animation as animation\n",
        "import matplotlib.pyplot as plt\n",
        "import mapclassify as mc\n",
        "import numpy as np\n",
        "from google.colab import drive\n",
        "\n",
        "drive.mount('/content/drive')\n",
        "\n",
        "%matplotlib inline\n",
        "\n",
        "pd.options.display.max_rows = 500\n",
        "pd.options.display.max_columns = 500"
      ],
      "execution_count": 2,
      "outputs": [
        {
          "output_type": "stream",
          "text": [
            "Drive already mounted at /content/drive; to attempt to forcibly remount, call drive.mount(\"/content/drive\", force_remount=True).\n"
          ],
          "name": "stdout"
        }
      ]
    },
    {
      "cell_type": "markdown",
      "metadata": {
        "id": "X2J9ha8CRk5E"
      },
      "source": [
        "Load Shapefile untuk Provinsi Jawa Barat :"
      ]
    },
    {
      "cell_type": "code",
      "metadata": {
        "colab": {
          "base_uri": "https://localhost:8080/",
          "height": 846
        },
        "id": "zCP-fKdIRnoc",
        "outputId": "e2ac3917-8c52-41db-9c38-d3b1da6db2dd"
      },
      "source": [
        "jabar = gpd.read_file(\"/content/drive/MyDrive/Colab Notebooks/Dataset/GeoSpatial Provinsi Jawa Barat/PROVINSI_JAWA_BARAT.shp\")\n",
        "jabar.drop(jabar.tail(1).index,inplace=True)\n",
        "jabar.drop(jabar.columns.difference(['PROVINSI','KABKOT', 'geometry']), 1, inplace=True)\n",
        "jabar"
      ],
      "execution_count": 3,
      "outputs": [
        {
          "output_type": "execute_result",
          "data": {
            "text/html": [
              "<div>\n",
              "<style scoped>\n",
              "    .dataframe tbody tr th:only-of-type {\n",
              "        vertical-align: middle;\n",
              "    }\n",
              "\n",
              "    .dataframe tbody tr th {\n",
              "        vertical-align: top;\n",
              "    }\n",
              "\n",
              "    .dataframe thead th {\n",
              "        text-align: right;\n",
              "    }\n",
              "</style>\n",
              "<table border=\"1\" class=\"dataframe\">\n",
              "  <thead>\n",
              "    <tr style=\"text-align: right;\">\n",
              "      <th></th>\n",
              "      <th>PROVINSI</th>\n",
              "      <th>KABKOT</th>\n",
              "      <th>geometry</th>\n",
              "    </tr>\n",
              "  </thead>\n",
              "  <tbody>\n",
              "    <tr>\n",
              "      <th>0</th>\n",
              "      <td>JAWA BARAT</td>\n",
              "      <td>BOGOR</td>\n",
              "      <td>POLYGON Z ((106.97083 -6.30274 0.00000, 106.97...</td>\n",
              "    </tr>\n",
              "    <tr>\n",
              "      <th>1</th>\n",
              "      <td>JAWA BARAT</td>\n",
              "      <td>SUKABUMI</td>\n",
              "      <td>POLYGON Z ((106.74152 -6.71556 0.00000, 106.74...</td>\n",
              "    </tr>\n",
              "    <tr>\n",
              "      <th>2</th>\n",
              "      <td>JAWA BARAT</td>\n",
              "      <td>CIANJUR</td>\n",
              "      <td>POLYGON Z ((107.23021 -6.60494 0.00000, 107.23...</td>\n",
              "    </tr>\n",
              "    <tr>\n",
              "      <th>3</th>\n",
              "      <td>JAWA BARAT</td>\n",
              "      <td>BANDUNG</td>\n",
              "      <td>POLYGON Z ((107.73309 -6.81400 0.00000, 107.73...</td>\n",
              "    </tr>\n",
              "    <tr>\n",
              "      <th>4</th>\n",
              "      <td>JAWA BARAT</td>\n",
              "      <td>GARUT</td>\n",
              "      <td>POLYGON Z ((107.91816 -6.94760 0.00000, 107.91...</td>\n",
              "    </tr>\n",
              "    <tr>\n",
              "      <th>5</th>\n",
              "      <td>JAWA BARAT</td>\n",
              "      <td>TASIKMALAYA</td>\n",
              "      <td>MULTIPOLYGON Z (((108.35489 -7.35286 0.00000, ...</td>\n",
              "    </tr>\n",
              "    <tr>\n",
              "      <th>6</th>\n",
              "      <td>JAWA BARAT</td>\n",
              "      <td>CIAMIS</td>\n",
              "      <td>MULTIPOLYGON Z (((108.44145 -7.54613 0.00000, ...</td>\n",
              "    </tr>\n",
              "    <tr>\n",
              "      <th>7</th>\n",
              "      <td>JAWA BARAT</td>\n",
              "      <td>KUNINGAN</td>\n",
              "      <td>POLYGON Z ((108.42106 -6.78413 0.00000, 108.42...</td>\n",
              "    </tr>\n",
              "    <tr>\n",
              "      <th>8</th>\n",
              "      <td>JAWA BARAT</td>\n",
              "      <td>CIREBON</td>\n",
              "      <td>MULTIPOLYGON Z (((108.68501 -6.76990 0.00000, ...</td>\n",
              "    </tr>\n",
              "    <tr>\n",
              "      <th>9</th>\n",
              "      <td>JAWA BARAT</td>\n",
              "      <td>MAJALENGKA</td>\n",
              "      <td>POLYGON Z ((108.12245 -6.54255 0.00000, 108.12...</td>\n",
              "    </tr>\n",
              "    <tr>\n",
              "      <th>10</th>\n",
              "      <td>JAWA BARAT</td>\n",
              "      <td>SUMEDANG</td>\n",
              "      <td>POLYGON Z ((107.85702 -6.57956 0.00000, 107.85...</td>\n",
              "    </tr>\n",
              "    <tr>\n",
              "      <th>11</th>\n",
              "      <td>JAWA BARAT</td>\n",
              "      <td>INDRAMAYU</td>\n",
              "      <td>MULTIPOLYGON Z (((108.36713 -6.27222 0.00000, ...</td>\n",
              "    </tr>\n",
              "    <tr>\n",
              "      <th>12</th>\n",
              "      <td>JAWA BARAT</td>\n",
              "      <td>SUBANG</td>\n",
              "      <td>MULTIPOLYGON Z (((107.89792 -6.41911 0.00000, ...</td>\n",
              "    </tr>\n",
              "    <tr>\n",
              "      <th>13</th>\n",
              "      <td>JAWA BARAT</td>\n",
              "      <td>PURWAKARTA</td>\n",
              "      <td>POLYGON Z ((107.50642 -6.41127 0.00000, 107.50...</td>\n",
              "    </tr>\n",
              "    <tr>\n",
              "      <th>14</th>\n",
              "      <td>JAWA BARAT</td>\n",
              "      <td>KARAWANG</td>\n",
              "      <td>POLYGON Z ((107.11274 -5.95519 0.00000, 107.11...</td>\n",
              "    </tr>\n",
              "    <tr>\n",
              "      <th>15</th>\n",
              "      <td>JAWA BARAT</td>\n",
              "      <td>BEKASI</td>\n",
              "      <td>MULTIPOLYGON Z (((107.17177 -6.48207 0.00000, ...</td>\n",
              "    </tr>\n",
              "    <tr>\n",
              "      <th>16</th>\n",
              "      <td>JAWA BARAT</td>\n",
              "      <td>BANDUNG BARAT</td>\n",
              "      <td>POLYGON Z ((107.40945 -6.68851 0.00000, 107.40...</td>\n",
              "    </tr>\n",
              "    <tr>\n",
              "      <th>17</th>\n",
              "      <td>JAWA BARAT</td>\n",
              "      <td>PANGANDARAN</td>\n",
              "      <td>POLYGON Z ((108.66941 -7.46009 0.00000, 108.67...</td>\n",
              "    </tr>\n",
              "    <tr>\n",
              "      <th>18</th>\n",
              "      <td>JAWA BARAT</td>\n",
              "      <td>KOTA BOGOR</td>\n",
              "      <td>POLYGON Z ((106.78224 -6.51170 0.00000, 106.78...</td>\n",
              "    </tr>\n",
              "    <tr>\n",
              "      <th>19</th>\n",
              "      <td>JAWA BARAT</td>\n",
              "      <td>KOTA SUKABUMI</td>\n",
              "      <td>POLYGON Z ((106.91539 -6.89319 0.00000, 106.91...</td>\n",
              "    </tr>\n",
              "    <tr>\n",
              "      <th>20</th>\n",
              "      <td>JAWA BARAT</td>\n",
              "      <td>KOTA BANDUNG</td>\n",
              "      <td>POLYGON Z ((107.59802 -6.83865 0.00000, 107.59...</td>\n",
              "    </tr>\n",
              "    <tr>\n",
              "      <th>21</th>\n",
              "      <td>JAWA BARAT</td>\n",
              "      <td>KOTA CIREBON</td>\n",
              "      <td>POLYGON Z ((108.56608 -6.70072 0.00000, 108.56...</td>\n",
              "    </tr>\n",
              "    <tr>\n",
              "      <th>22</th>\n",
              "      <td>JAWA BARAT</td>\n",
              "      <td>KOTA BEKASI</td>\n",
              "      <td>POLYGON Z ((106.98443 -6.17240 0.00000, 106.98...</td>\n",
              "    </tr>\n",
              "    <tr>\n",
              "      <th>23</th>\n",
              "      <td>JAWA BARAT</td>\n",
              "      <td>KOTA DEPOK</td>\n",
              "      <td>POLYGON Z ((106.80716 -6.31441 0.00000, 106.80...</td>\n",
              "    </tr>\n",
              "    <tr>\n",
              "      <th>24</th>\n",
              "      <td>JAWA BARAT</td>\n",
              "      <td>KOTA CIMAHI</td>\n",
              "      <td>POLYGON Z ((107.54563 -6.83175 0.00000, 107.54...</td>\n",
              "    </tr>\n",
              "    <tr>\n",
              "      <th>25</th>\n",
              "      <td>JAWA BARAT</td>\n",
              "      <td>KOTA TASIKMALAYA</td>\n",
              "      <td>POLYGON Z ((108.19382 -7.26962 0.00000, 108.19...</td>\n",
              "    </tr>\n",
              "    <tr>\n",
              "      <th>26</th>\n",
              "      <td>JAWA BARAT</td>\n",
              "      <td>KOTA BANJAR</td>\n",
              "      <td>POLYGON Z ((108.55204 -7.32366 0.00000, 108.55...</td>\n",
              "    </tr>\n",
              "  </tbody>\n",
              "</table>\n",
              "</div>"
            ],
            "text/plain": [
              "      PROVINSI            KABKOT  \\\n",
              "0   JAWA BARAT             BOGOR   \n",
              "1   JAWA BARAT          SUKABUMI   \n",
              "2   JAWA BARAT           CIANJUR   \n",
              "3   JAWA BARAT           BANDUNG   \n",
              "4   JAWA BARAT             GARUT   \n",
              "5   JAWA BARAT       TASIKMALAYA   \n",
              "6   JAWA BARAT            CIAMIS   \n",
              "7   JAWA BARAT          KUNINGAN   \n",
              "8   JAWA BARAT           CIREBON   \n",
              "9   JAWA BARAT        MAJALENGKA   \n",
              "10  JAWA BARAT          SUMEDANG   \n",
              "11  JAWA BARAT         INDRAMAYU   \n",
              "12  JAWA BARAT            SUBANG   \n",
              "13  JAWA BARAT        PURWAKARTA   \n",
              "14  JAWA BARAT          KARAWANG   \n",
              "15  JAWA BARAT            BEKASI   \n",
              "16  JAWA BARAT     BANDUNG BARAT   \n",
              "17  JAWA BARAT       PANGANDARAN   \n",
              "18  JAWA BARAT        KOTA BOGOR   \n",
              "19  JAWA BARAT     KOTA SUKABUMI   \n",
              "20  JAWA BARAT      KOTA BANDUNG   \n",
              "21  JAWA BARAT      KOTA CIREBON   \n",
              "22  JAWA BARAT       KOTA BEKASI   \n",
              "23  JAWA BARAT        KOTA DEPOK   \n",
              "24  JAWA BARAT       KOTA CIMAHI   \n",
              "25  JAWA BARAT  KOTA TASIKMALAYA   \n",
              "26  JAWA BARAT       KOTA BANJAR   \n",
              "\n",
              "                                             geometry  \n",
              "0   POLYGON Z ((106.97083 -6.30274 0.00000, 106.97...  \n",
              "1   POLYGON Z ((106.74152 -6.71556 0.00000, 106.74...  \n",
              "2   POLYGON Z ((107.23021 -6.60494 0.00000, 107.23...  \n",
              "3   POLYGON Z ((107.73309 -6.81400 0.00000, 107.73...  \n",
              "4   POLYGON Z ((107.91816 -6.94760 0.00000, 107.91...  \n",
              "5   MULTIPOLYGON Z (((108.35489 -7.35286 0.00000, ...  \n",
              "6   MULTIPOLYGON Z (((108.44145 -7.54613 0.00000, ...  \n",
              "7   POLYGON Z ((108.42106 -6.78413 0.00000, 108.42...  \n",
              "8   MULTIPOLYGON Z (((108.68501 -6.76990 0.00000, ...  \n",
              "9   POLYGON Z ((108.12245 -6.54255 0.00000, 108.12...  \n",
              "10  POLYGON Z ((107.85702 -6.57956 0.00000, 107.85...  \n",
              "11  MULTIPOLYGON Z (((108.36713 -6.27222 0.00000, ...  \n",
              "12  MULTIPOLYGON Z (((107.89792 -6.41911 0.00000, ...  \n",
              "13  POLYGON Z ((107.50642 -6.41127 0.00000, 107.50...  \n",
              "14  POLYGON Z ((107.11274 -5.95519 0.00000, 107.11...  \n",
              "15  MULTIPOLYGON Z (((107.17177 -6.48207 0.00000, ...  \n",
              "16  POLYGON Z ((107.40945 -6.68851 0.00000, 107.40...  \n",
              "17  POLYGON Z ((108.66941 -7.46009 0.00000, 108.67...  \n",
              "18  POLYGON Z ((106.78224 -6.51170 0.00000, 106.78...  \n",
              "19  POLYGON Z ((106.91539 -6.89319 0.00000, 106.91...  \n",
              "20  POLYGON Z ((107.59802 -6.83865 0.00000, 107.59...  \n",
              "21  POLYGON Z ((108.56608 -6.70072 0.00000, 108.56...  \n",
              "22  POLYGON Z ((106.98443 -6.17240 0.00000, 106.98...  \n",
              "23  POLYGON Z ((106.80716 -6.31441 0.00000, 106.80...  \n",
              "24  POLYGON Z ((107.54563 -6.83175 0.00000, 107.54...  \n",
              "25  POLYGON Z ((108.19382 -7.26962 0.00000, 108.19...  \n",
              "26  POLYGON Z ((108.55204 -7.32366 0.00000, 108.55...  "
            ]
          },
          "metadata": {
            "tags": []
          },
          "execution_count": 3
        }
      ]
    },
    {
      "cell_type": "markdown",
      "metadata": {
        "id": "o4m19Sksh6C1"
      },
      "source": [
        "Load Covid Jawa Barat Dataset :"
      ]
    },
    {
      "cell_type": "code",
      "metadata": {
        "colab": {
          "base_uri": "https://localhost:8080/",
          "height": 195
        },
        "id": "VxgidFhvh_S8",
        "outputId": "3a1d3d1a-9c40-4002-94c8-dfc43c8fe7c7"
      },
      "source": [
        "covid_jabar = pd.read_csv(\"/content/drive/MyDrive/Colab Notebooks/Dataset/GeoSpatial Provinsi Jawa Barat/COVID_JAWABARAT.csv\")\n",
        "covid_jabar.columns = map(str.upper, covid_jabar.columns)\n",
        "covid_jabar.drop(covid_jabar.columns.difference(['PROVINSI','KABKOT', 'CONFIRMATION']), 1, inplace=True)\n",
        "covid_jabar['PROVINSI'] = covid_jabar['PROVINSI'].str.upper()\n",
        "covid_jabar.head()"
      ],
      "execution_count": 4,
      "outputs": [
        {
          "output_type": "execute_result",
          "data": {
            "text/html": [
              "<div>\n",
              "<style scoped>\n",
              "    .dataframe tbody tr th:only-of-type {\n",
              "        vertical-align: middle;\n",
              "    }\n",
              "\n",
              "    .dataframe tbody tr th {\n",
              "        vertical-align: top;\n",
              "    }\n",
              "\n",
              "    .dataframe thead th {\n",
              "        text-align: right;\n",
              "    }\n",
              "</style>\n",
              "<table border=\"1\" class=\"dataframe\">\n",
              "  <thead>\n",
              "    <tr style=\"text-align: right;\">\n",
              "      <th></th>\n",
              "      <th>PROVINSI</th>\n",
              "      <th>KABKOT</th>\n",
              "      <th>CONFIRMATION</th>\n",
              "    </tr>\n",
              "  </thead>\n",
              "  <tbody>\n",
              "    <tr>\n",
              "      <th>0</th>\n",
              "      <td>JAWA BARAT</td>\n",
              "      <td>BOGOR</td>\n",
              "      <td>16621</td>\n",
              "    </tr>\n",
              "    <tr>\n",
              "      <th>1</th>\n",
              "      <td>JAWA BARAT</td>\n",
              "      <td>SUKABUMI</td>\n",
              "      <td>4819</td>\n",
              "    </tr>\n",
              "    <tr>\n",
              "      <th>2</th>\n",
              "      <td>JAWA BARAT</td>\n",
              "      <td>CIANJUR</td>\n",
              "      <td>3375</td>\n",
              "    </tr>\n",
              "    <tr>\n",
              "      <th>3</th>\n",
              "      <td>JAWA BARAT</td>\n",
              "      <td>BANDUNG</td>\n",
              "      <td>10247</td>\n",
              "    </tr>\n",
              "    <tr>\n",
              "      <th>4</th>\n",
              "      <td>JAWA BARAT</td>\n",
              "      <td>GARUT</td>\n",
              "      <td>9616</td>\n",
              "    </tr>\n",
              "  </tbody>\n",
              "</table>\n",
              "</div>"
            ],
            "text/plain": [
              "     PROVINSI    KABKOT  CONFIRMATION\n",
              "0  JAWA BARAT     BOGOR         16621\n",
              "1  JAWA BARAT  SUKABUMI          4819\n",
              "2  JAWA BARAT   CIANJUR          3375\n",
              "3  JAWA BARAT   BANDUNG         10247\n",
              "4  JAWA BARAT     GARUT          9616"
            ]
          },
          "metadata": {
            "tags": []
          },
          "execution_count": 4
        }
      ]
    },
    {
      "cell_type": "markdown",
      "metadata": {
        "id": "kQPAdngQyTCl"
      },
      "source": [
        "Merge Data :"
      ]
    },
    {
      "cell_type": "code",
      "metadata": {
        "colab": {
          "base_uri": "https://localhost:8080/",
          "height": 195
        },
        "id": "gVy4fuRiyWUB",
        "outputId": "e6899d1b-32f0-48e7-a700-3eaa561c056d"
      },
      "source": [
        "kopit = jabar.merge(covid_jabar, left_on=['PROVINSI','KABKOT'], right_on=['PROVINSI','KABKOT'])\n",
        "kopit.head()"
      ],
      "execution_count": 5,
      "outputs": [
        {
          "output_type": "execute_result",
          "data": {
            "text/html": [
              "<div>\n",
              "<style scoped>\n",
              "    .dataframe tbody tr th:only-of-type {\n",
              "        vertical-align: middle;\n",
              "    }\n",
              "\n",
              "    .dataframe tbody tr th {\n",
              "        vertical-align: top;\n",
              "    }\n",
              "\n",
              "    .dataframe thead th {\n",
              "        text-align: right;\n",
              "    }\n",
              "</style>\n",
              "<table border=\"1\" class=\"dataframe\">\n",
              "  <thead>\n",
              "    <tr style=\"text-align: right;\">\n",
              "      <th></th>\n",
              "      <th>PROVINSI</th>\n",
              "      <th>KABKOT</th>\n",
              "      <th>geometry</th>\n",
              "      <th>CONFIRMATION</th>\n",
              "    </tr>\n",
              "  </thead>\n",
              "  <tbody>\n",
              "    <tr>\n",
              "      <th>0</th>\n",
              "      <td>JAWA BARAT</td>\n",
              "      <td>BOGOR</td>\n",
              "      <td>POLYGON Z ((106.97083 -6.30274 0.00000, 106.97...</td>\n",
              "      <td>16621</td>\n",
              "    </tr>\n",
              "    <tr>\n",
              "      <th>1</th>\n",
              "      <td>JAWA BARAT</td>\n",
              "      <td>SUKABUMI</td>\n",
              "      <td>POLYGON Z ((106.74152 -6.71556 0.00000, 106.74...</td>\n",
              "      <td>4819</td>\n",
              "    </tr>\n",
              "    <tr>\n",
              "      <th>2</th>\n",
              "      <td>JAWA BARAT</td>\n",
              "      <td>CIANJUR</td>\n",
              "      <td>POLYGON Z ((107.23021 -6.60494 0.00000, 107.23...</td>\n",
              "      <td>3375</td>\n",
              "    </tr>\n",
              "    <tr>\n",
              "      <th>3</th>\n",
              "      <td>JAWA BARAT</td>\n",
              "      <td>BANDUNG</td>\n",
              "      <td>POLYGON Z ((107.73309 -6.81400 0.00000, 107.73...</td>\n",
              "      <td>10247</td>\n",
              "    </tr>\n",
              "    <tr>\n",
              "      <th>4</th>\n",
              "      <td>JAWA BARAT</td>\n",
              "      <td>GARUT</td>\n",
              "      <td>POLYGON Z ((107.91816 -6.94760 0.00000, 107.91...</td>\n",
              "      <td>9616</td>\n",
              "    </tr>\n",
              "  </tbody>\n",
              "</table>\n",
              "</div>"
            ],
            "text/plain": [
              "     PROVINSI    KABKOT                                           geometry  \\\n",
              "0  JAWA BARAT     BOGOR  POLYGON Z ((106.97083 -6.30274 0.00000, 106.97...   \n",
              "1  JAWA BARAT  SUKABUMI  POLYGON Z ((106.74152 -6.71556 0.00000, 106.74...   \n",
              "2  JAWA BARAT   CIANJUR  POLYGON Z ((107.23021 -6.60494 0.00000, 107.23...   \n",
              "3  JAWA BARAT   BANDUNG  POLYGON Z ((107.73309 -6.81400 0.00000, 107.73...   \n",
              "4  JAWA BARAT     GARUT  POLYGON Z ((107.91816 -6.94760 0.00000, 107.91...   \n",
              "\n",
              "   CONFIRMATION  \n",
              "0         16621  \n",
              "1          4819  \n",
              "2          3375  \n",
              "3         10247  \n",
              "4          9616  "
            ]
          },
          "metadata": {
            "tags": []
          },
          "execution_count": 5
        }
      ]
    },
    {
      "cell_type": "markdown",
      "metadata": {
        "id": "0LaU2dd0zyEO"
      },
      "source": [
        "## Visualize\n",
        "GeoPlot Jawa Barat Map :"
      ]
    },
    {
      "cell_type": "code",
      "metadata": {
        "id": "8lp2eGqKz7qk",
        "colab": {
          "base_uri": "https://localhost:8080/",
          "height": 484
        },
        "outputId": "2a209edc-3f53-4177-d530-dd5a2c3e0bb0"
      },
      "source": [
        "gplt.polyplot(\n",
        "    kopit, \n",
        "    edgecolor=\"white\",\n",
        "    facecolor=\"lightgray\",\n",
        "    figsize=(12, 8))"
      ],
      "execution_count": 6,
      "outputs": [
        {
          "output_type": "execute_result",
          "data": {
            "text/plain": [
              "<matplotlib.axes._subplots.AxesSubplot at 0x7fda0ff723d0>"
            ]
          },
          "metadata": {
            "tags": []
          },
          "execution_count": 6
        },
        {
          "output_type": "display_data",
          "data": {
            "image/png": "[encoded data removed]",
            "text/plain": [
              "<Figure size 864x576 with 1 Axes>"
            ]
          },
          "metadata": {
            "tags": [],
            "needs_background": "light"
          }
        }
      ]
    }
  ]
}